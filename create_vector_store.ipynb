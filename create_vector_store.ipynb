{
 "cells": [
  {
   "cell_type": "code",
   "execution_count": 1,
   "id": "3d21187f-8b6f-4814-be45-a884c41c1bae",
   "metadata": {},
   "outputs": [],
   "source": [
    "import pandas as pd "
   ]
  },
  {
   "cell_type": "code",
   "execution_count": 2,
   "id": "c1fa9f54-6ef1-4e0e-9d54-48a0fbd3bcdf",
   "metadata": {},
   "outputs": [],
   "source": [
    "df = pd.read_csv(r'complaints_fake.csv')"
   ]
  },
  {
   "cell_type": "code",
   "execution_count": 6,
   "id": "719aea27-115e-4f63-8380-4e543fc27e5d",
   "metadata": {},
   "outputs": [
    {
     "data": {
      "text/plain": [
       "Index(['client_name', 'client_region', 'theme', 'complaint_date',\n",
       "       'complaint_text'],\n",
       "      dtype='object')"
      ]
     },
     "execution_count": 6,
     "metadata": {},
     "output_type": "execute_result"
    }
   ],
   "source": [
    "df.columns"
   ]
  },
  {
   "cell_type": "code",
   "execution_count": 3,
   "id": "e03fd60b-baba-49b1-a2e2-18b1b5296b84",
   "metadata": {},
   "outputs": [],
   "source": [
    "import faiss\n",
    "from langchain_community.docstore.in_memory import InMemoryDocstore\n",
    "from langchain_community.vectorstores import FAISS\n",
    "from uuid import uuid4\n",
    "\n",
    "from langchain_core.documents import Document"
   ]
  },
  {
   "cell_type": "code",
   "execution_count": 5,
   "id": "8591410c-23da-4bd5-b58f-6fbcf271b8a9",
   "metadata": {},
   "outputs": [],
   "source": [
    "documents = []"
   ]
  },
  {
   "cell_type": "code",
   "execution_count": 11,
   "id": "4fa251f7-7b50-453f-8915-356f6fbc09fd",
   "metadata": {},
   "outputs": [],
   "source": [
    "for index, row in df.iterrows():\n",
    "    document_temp = Document(page_content=row['complaint_text'],metadata={\"client_name\": row['client_name'],\"client_region\": row['client_region'],\"theme\": row['theme'],\"complaint_date\": row['complaint_date']})\n",
    "    documents.append(document_temp)\n"
   ]
  },
  {
   "cell_type": "code",
   "execution_count": 14,
   "id": "f583ae92-f583-4fcc-8a25-d22d5da7973c",
   "metadata": {},
   "outputs": [],
   "source": [
    "from langchain.embeddings import BedrockEmbeddings\n",
    "import boto3\n",
    "bedrock_client = boto3.client(\n",
    "    service_name=\"bedrock-runtime\",\n",
    "    region_name='us-east-1',\n",
    ")"
   ]
  },
  {
   "cell_type": "code",
   "execution_count": 15,
   "id": "bc127370-c944-4d10-bc2f-e8d8d3766bdf",
   "metadata": {},
   "outputs": [
    {
     "name": "stderr",
     "output_type": "stream",
     "text": [
      "/tmp/ipykernel_6094/2076088525.py:1: LangChainDeprecationWarning: The class `BedrockEmbeddings` was deprecated in LangChain 0.2.11 and will be removed in 1.0. An updated version of the class exists in the langchain-aws package and should be used instead. To use it run `pip install -U langchain-aws` and import as `from langchain_aws import BedrockEmbeddings`.\n",
      "  embeddings = BedrockEmbeddings(\n"
     ]
    }
   ],
   "source": [
    "embeddings = BedrockEmbeddings(\n",
    "            client=bedrock_client, \n",
    "            model_id=\"amazon.titan-embed-text-v2:0\"\n",
    "        )\n"
   ]
  },
  {
   "cell_type": "code",
   "execution_count": 16,
   "id": "e548a54f-4cd8-45d5-b2eb-e0f94b7a252b",
   "metadata": {},
   "outputs": [],
   "source": [
    "vector_store = FAISS.from_documents(documents=documents,embedding=embeddings)"
   ]
  },
  {
   "cell_type": "code",
   "execution_count": 17,
   "id": "119495f8-2f36-4b16-acbd-6ed5d2f400df",
   "metadata": {},
   "outputs": [],
   "source": [
    "vector_store.save_local('complaints.vs')"
   ]
  },
  {
   "cell_type": "code",
   "execution_count": null,
   "id": "1a2412c9-0a66-4c2a-b6ae-50ac9dc412cd",
   "metadata": {},
   "outputs": [],
   "source": []
  }
 ],
 "metadata": {
  "kernelspec": {
   "display_name": "Python 3 (ipykernel)",
   "language": "python",
   "name": "python3"
  },
  "language_info": {
   "codemirror_mode": {
    "name": "ipython",
    "version": 3
   },
   "file_extension": ".py",
   "mimetype": "text/x-python",
   "name": "python",
   "nbconvert_exporter": "python",
   "pygments_lexer": "ipython3",
   "version": "3.11.11"
  }
 },
 "nbformat": 4,
 "nbformat_minor": 5
}
