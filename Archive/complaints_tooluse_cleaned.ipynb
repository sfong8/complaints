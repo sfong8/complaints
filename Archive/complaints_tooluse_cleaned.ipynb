{
 "cells": [
  {
   "cell_type": "code",
   "execution_count": 134,
   "id": "b2c7c1cd-c9a1-4ee3-813a-c7433d64efc3",
   "metadata": {},
   "outputs": [],
   "source": [
    "import boto3, json, math\n",
    "import faiss\n",
    "from langchain_community.docstore.in_memory import InMemoryDocstore\n",
    "from langchain_community.vectorstores import FAISS\n",
    "from langchain.embeddings import BedrockEmbeddings\n",
    "import boto3\n",
    "bedrock_client = boto3.client(\n",
    "    service_name=\"bedrock-runtime\",\n",
    "    region_name='us-east-1',\n",
    ")\n",
    "embeddings = BedrockEmbeddings(\n",
    "            client=bedrock_client, \n",
    "            model_id=\"amazon.titan-embed-text-v2:0\"\n",
    "        )\n",
    "vector_store = FAISS.load_local('complaints.vs',embeddings,allow_dangerous_deserialization=True)"
   ]
  },
  {
   "cell_type": "code",
   "execution_count": 213,
   "id": "2bf63f56-5369-4775-b315-d43707048bf0",
   "metadata": {},
   "outputs": [],
   "source": [
    "def call_bedrock(message_list,system_prompts, tool_list=None):\n",
    "    session = boto3.Session()\n",
    "\n",
    "    bedrock = session.client(service_name='bedrock-runtime')\n",
    "    if tool_list is None:\n",
    "        response = bedrock.converse(\n",
    "            modelId=\"amazon.nova-pro-v1:0\",\n",
    "            messages=message_list,\n",
    "            system= [{ 'text':system_prompts  }],\n",
    "            inferenceConfig={\n",
    "                \"maxTokens\": 2000,\n",
    "                \"temperature\": 0.2\n",
    "            }\n",
    "        )\n",
    "    else:\n",
    "            response = bedrock.converse(\n",
    "            modelId=\"amazon.nova-pro-v1:0\",\n",
    "            messages=message_list,\n",
    "            system= [{ 'text':system_prompts  }],\n",
    "            inferenceConfig={\n",
    "                \"maxTokens\": 2000,\n",
    "                \"temperature\": 0.2\n",
    "            },\n",
    "            toolConfig={ \"tools\": tool_list }\n",
    "        )\n",
    "        \n",
    "        \n",
    "    return response\n"
   ]
  },
  {
   "cell_type": "code",
   "execution_count": 140,
   "id": "6209472c-3d9d-4dd7-b84f-5c529b9c4727",
   "metadata": {},
   "outputs": [],
   "source": [
    "\n",
    "tool_list =[\n",
    "    {\n",
    "        \"toolSpec\": {\n",
    "            \"name\": \"identify_complaints_filters\",\n",
    "            \"description\": \"\"\"Your job is to first look at the query's query and determine if it requires filtering the complaints first based off the following columns \n",
    "            client_name - name of the company making the complaint, you will need to use the like filter since users might not type if the exact name\n",
    "            client_region - possible values ['MC','LC','ICB'] where MC= mid-corporate, LC = Large corporate, ICB = International corprorate\n",
    "            complaint_date - date of the complaint\n",
    "\n",
    "            Note: if you're not sure then don't output anything. This is used for metadata filter for the vectorstore. You will need to use the following\n",
    "            $eq (equals)\n",
    "            $neq (not equals)\n",
    "            $gt (greater than)\n",
    "            $lt (less than)\n",
    "            $gte (greater than or equal)\n",
    "            $lte (less than or equal)\n",
    "            $in (membership in list)\n",
    "            $nin (not in list)\n",
    "            $and (all conditions must match)\n",
    "            $or (any condition must match)\n",
    "            $not (negation of condition)\n",
    "\n",
    "            Example1: user_query: Show me all complaints in region MC\n",
    "            output: = {\"client_region\": {\"$eq\": \"MC\"}}\n",
    "\n",
    "            Example2: user_query: Show me all complaints in region LC and after 15th June 2024\n",
    "            output: = {\"client_region\": {\"$eq\": \"MC\"},\"client_region\": {\"$gt\": \"2024-06-15\"}}\n",
    "\n",
    "            \n",
    "            \"\"\",\n",
    "            \"inputSchema\": {\n",
    "                \"json\": {\n",
    "                    \"type\": \"object\",\n",
    "                    \"properties\": {\n",
    "                        \"x\": {\n",
    "                            \"type\": \"dict\",\n",
    "                            \"description\": \"\"\"output filter as a dict e.g. {\"client_region\": {\"$eq\": \"MC\"},\"client_region\": {\"$gt\": \"2024-06-15\"}}\"\"\"\n",
    "                        }\n",
    "                    },\n",
    "                    \"required\": [\"x\"]\n",
    "                }\n",
    "            }\n",
    "        }}\n",
    "]\n"
   ]
  },
  {
   "cell_type": "code",
   "execution_count": 141,
   "id": "02e39c66-b10d-4652-b805-74c2d70cfd5a",
   "metadata": {},
   "outputs": [],
   "source": [
    "\n",
    "tool_list =[\n",
    "    {\n",
    "        \"toolSpec\": {\n",
    "            \"name\": \"identify_complaints_filters\",\n",
    "            \"description\": \"\"\"Your job is to first look at the query's query and determine if it requires filtering the complaints first based off the following columns \n",
    "            client_name - name of the company making the complaint, you will need to use the like filter since users might not type if the exact name\n",
    "            client_region - possible values ['MC','LC','ICB'] where MC= mid-corporate, LC = Large corporate, ICB = International corprorate\n",
    "            complaint_date - date of the complaint\n",
    "\n",
    "            Note: if you're not sure then don't output anything. This is used for metadata filter for the vectorstore. There are two outputs x and y, where x is the column filters and y is the number of documents to return - if user doesnt specify then default is 100\n",
    "\n",
    "            Example1: user_query: Show me all complaints in region MC\n",
    "            output: = {client_region\": \"MC\"}\n",
    "            y=100\n",
    "\n",
    "            Example2: user_query: Show me all complaints in region LC and after 15th June 2024\n",
    "            output: \n",
    "            x = {\"client_region\": \"MC\",\"complaint_date\": \">2024-06-15\"}\n",
    "            y=100\n",
    "\n",
    "            Example3: user_query: Show me 5 complaints in regions MC and LC\n",
    "            output:\n",
    "            x = {client_region\": [\"MC\",'LC']}\n",
    "            y = 5\n",
    "            \n",
    "            \"\"\",\n",
    "            \"inputSchema\": {\n",
    "                \"json\": {\n",
    "                    \"type\": \"object\",\n",
    "                    \"properties\": {\n",
    "                        \"x\": {\n",
    "                            \"type\": \"dict\",\n",
    "                            \"description\": \"\"\"output filter as a dict e.g. {client_region\": [\"MC\",'LC']}  or {client_region\": \"MC\"}\"\"\"\n",
    "                        },\n",
    "                        \"y\": {\n",
    "                            \"type\": \"integer\",\n",
    "                            \"description\": \"\"\"Filter for the number of documents to return. if user query doesnt specify then default is 100\"\"\"\n",
    "                        }\n",
    "                    },\n",
    "                    \"required\": [\"x\",\"y\"]\n",
    "                }\n",
    "            }\n",
    "        }}\n",
    "]\n"
   ]
  },
  {
   "cell_type": "code",
   "execution_count": 152,
   "id": "42817e85-9cdf-4786-a8ca-e4590a67ee2d",
   "metadata": {},
   "outputs": [],
   "source": [
    "system_message = \"\"\"You are an AI assistant within a corporate bank in the Complaints team. Your role is to retrieve back the complaints based off the user query. \n",
    "Your first job is always to breakdown the user query (using the tool identify_complaints_filters) to determine if you need to filter the metadata in the vectorstore first if yes, then this is passed to the tool retrieve_from_vectorstore\"\"\"\n",
    "query_example = 'is there any complaints relating to payments for clients in MC region'\n",
    "message_list = [\n",
    "        {\n",
    "            \"role\": \"user\",\n",
    "            \"content\": [ { \"text\": query_example } ]\n",
    "        }\n",
    "    ]\n",
    "\n"
   ]
  },
  {
   "cell_type": "code",
   "execution_count": 153,
   "id": "e0716bb3-147e-4a58-a10d-df4012ce21f3",
   "metadata": {},
   "outputs": [],
   "source": [
    "response = call_bedrock(message_list=message_list,system_prompts=system_message,tool_list=tool_list)"
   ]
  },
  {
   "cell_type": "code",
   "execution_count": 159,
   "id": "1d333dab-35bc-4f8c-8163-b21af878718c",
   "metadata": {},
   "outputs": [
    {
     "name": "stdout",
     "output_type": "stream",
     "text": [
      "filter by metadata: {'client_region': 'MC'} and k: 100\n"
     ]
    }
   ],
   "source": [
    "try:\n",
    "    metadata_filter = response['output']['message']['content'][1]['toolUse']['input']['x']\n",
    "    k_filter = response['output']['message']['content'][1]['toolUse']['input']['y']\n",
    "    print(f\"filter by metadata: {metadata_filter} and k: {k_filter}\")\n",
    "    retriever = vector_store.as_retriever(search_kwargs={'filter': metadata_filter, 'k':k_filter})\n",
    "except:\n",
    "    print('cannot extract out filters so going default')\n",
    "    retriever = vector_store.as_retriever(search_kwargs= {'k':100})"
   ]
  },
  {
   "cell_type": "code",
   "execution_count": 109,
   "id": "944522ea-af05-43a5-a533-e88ece1599ba",
   "metadata": {},
   "outputs": [],
   "source": []
  },
  {
   "cell_type": "code",
   "execution_count": 160,
   "id": "e6aca957-c3c7-4094-812b-8ad69535aa9e",
   "metadata": {},
   "outputs": [],
   "source": [
    "docs = retriever.invoke(query_example)"
   ]
  },
  {
   "cell_type": "code",
   "execution_count": 161,
   "id": "6efb04b0-9277-4014-be6b-86446911f598",
   "metadata": {},
   "outputs": [
    {
     "data": {
      "text/plain": [
       "[Document(metadata={'client_name': 'Gamma Prime Corp.', 'client_region': 'MC', 'theme': 'Account Management', 'complaint_date': '2024-04-16'}, page_content=\"Our account was incorrectly linked to another client's account, causing confusion.\"),\n",
       " Document(metadata={'client_name': 'Tech Innovators Corp.', 'client_region': 'MC', 'theme': 'Customer Service', 'complaint_date': '2024-05-13'}, page_content='The customer service team was unresponsive to our queries regarding account discrepancies.'),\n",
       " Document(metadata={'client_name': 'Omega Holdings Ltd.', 'client_region': 'MC', 'theme': 'Customer Service', 'complaint_date': '2024-04-19'}, page_content='We have been unable to reach a representative for over a week regarding our account issue.')]"
      ]
     },
     "execution_count": 161,
     "metadata": {},
     "output_type": "execute_result"
    }
   ],
   "source": [
    "docs"
   ]
  },
  {
   "cell_type": "code",
   "execution_count": 104,
   "id": "a1418119-a261-4fdb-b432-9dc3672e66a5",
   "metadata": {},
   "outputs": [],
   "source": [
    "retriever = vector_store.as_retriever(search_kwargs={'filter':{'client_region':'MC'} })\n",
    "docs = retriever.invoke('is there any complaints relating to supply chain for clients in MC region')"
   ]
  },
  {
   "cell_type": "code",
   "execution_count": 199,
   "id": "9f0e4eb0-ce46-4e38-84c3-9c580a197d1b",
   "metadata": {},
   "outputs": [],
   "source": [
    "# master_df = pd.DataFrame()\n",
    "for doc in docs:\n",
    "    test=doc.metadata\n",
    "    test.update({'complaint_text':doc.page_content})\n",
    "    temp_df = pd.DataFrame([test.values()],columns=test.keys())\n",
    "    master_df = pd.concat([master_df,temp_df])"
   ]
  },
  {
   "cell_type": "code",
   "execution_count": 211,
   "id": "6dce9476-b145-435a-a971-e8a8b75cb4b5",
   "metadata": {},
   "outputs": [],
   "source": [
    "\n",
    "rag_system_message = f\"\"\"\n",
    "System: You are an AI assistant in a corporate bank and your job is to answer the users query around complaints using only the context only you should mainly use the complaint_text column to generate answer but can use other columns to check the user query. \n",
    "Human: Here is a set of context, contained in <context> tags:\n",
    "\n",
    "<context>\n",
    "{master_df.to_csv(index=False)}\n",
    "</context>\n",
    "\n",
    " If you don't know the answer, just say that you don't know, don't try to make up an answer.\n",
    "\"\"\"\n",
    "\n"
   ]
  },
  {
   "cell_type": "code",
   "execution_count": 214,
   "id": "309ed3a0-6c56-436c-8cac-9c341afdba09",
   "metadata": {},
   "outputs": [],
   "source": [
    "response = call_bedrock(message_list=message_list,system_prompts=rag_system_message,tool_list=None)\n"
   ]
  },
  {
   "cell_type": "code",
   "execution_count": 215,
   "id": "8f8bdda6-108d-4152-a485-70f16d9da2b4",
   "metadata": {},
   "outputs": [
    {
     "data": {
      "text/plain": [
       "{'ResponseMetadata': {'RequestId': 'd4164b30-3466-43d7-8a77-8e63c126c7a2',\n",
       "  'HTTPStatusCode': 200,\n",
       "  'HTTPHeaders': {'date': 'Sat, 18 Jan 2025 16:49:16 GMT',\n",
       "   'content-type': 'application/json',\n",
       "   'content-length': '785',\n",
       "   'connection': 'keep-alive',\n",
       "   'x-amzn-requestid': 'd4164b30-3466-43d7-8a77-8e63c126c7a2'},\n",
       "  'RetryAttempts': 0},\n",
       " 'output': {'message': {'role': 'assistant',\n",
       "   'content': [{'text': 'Based on the provided context, there are no complaints specifically relating to payments for clients in the MC region. The complaints listed are about account management and customer service issues. Here is the breakdown:\\n\\n1. **Gamma Prime Corp.** - Complaint about account management (incorrect linking of accounts).\\n2. **Tech Innovators Corp.** - Complaint about customer service (unresponsive team regarding account discrepancies).\\n3. **Omega Holdings Ltd.** - Complaint about customer service (unable to reach a representative).\\n\\nNone of these complaints mention issues related to payments.'}]}},\n",
       " 'stopReason': 'end_turn',\n",
       " 'usage': {'inputTokens': 237, 'outputTokens': 110, 'totalTokens': 347},\n",
       " 'metrics': {'latencyMs': 1599}}"
      ]
     },
     "execution_count": 215,
     "metadata": {},
     "output_type": "execute_result"
    }
   ],
   "source": [
    "response"
   ]
  },
  {
   "cell_type": "code",
   "execution_count": null,
   "id": "9df2922d-861b-483a-814a-b1faff34240c",
   "metadata": {},
   "outputs": [],
   "source": []
  }
 ],
 "metadata": {
  "kernelspec": {
   "display_name": "Python 3 (ipykernel)",
   "language": "python",
   "name": "python3"
  },
  "language_info": {
   "codemirror_mode": {
    "name": "ipython",
    "version": 3
   },
   "file_extension": ".py",
   "mimetype": "text/x-python",
   "name": "python",
   "nbconvert_exporter": "python",
   "pygments_lexer": "ipython3",
   "version": "3.11.11"
  }
 },
 "nbformat": 4,
 "nbformat_minor": 5
}
