{
 "cells": [
  {
   "cell_type": "code",
   "execution_count": 85,
   "id": "b2c7c1cd-c9a1-4ee3-813a-c7433d64efc3",
   "metadata": {},
   "outputs": [],
   "source": [
    "import boto3, json, math\n",
    "\n",
    "class ToolError(Exception):\n",
    "    pass\n"
   ]
  },
  {
   "cell_type": "code",
   "execution_count": 86,
   "id": "2bf63f56-5369-4775-b315-d43707048bf0",
   "metadata": {},
   "outputs": [],
   "source": [
    "def call_bedrock(message_list, tool_list):\n",
    "    session = boto3.Session()\n",
    "\n",
    "    bedrock = session.client(service_name='bedrock-runtime')\n",
    "    \n",
    "    response = bedrock.converse(\n",
    "        modelId=\"amazon.nova-pro-v1:0\",\n",
    "        messages=message_list,\n",
    "        inferenceConfig={\n",
    "            \"maxTokens\": 2000,\n",
    "            \"temperature\": 0.2\n",
    "        },\n",
    "        toolConfig={ \"tools\": tool_list }\n",
    "    )\n",
    "    \n",
    "    return response\n"
   ]
  },
  {
   "cell_type": "code",
   "execution_count": 87,
   "id": "9a8aeca9-e3e3-4263-a67a-c2b9af65909b",
   "metadata": {},
   "outputs": [],
   "source": [
    "def get_tool_result(tool_use_block):\n",
    "    \n",
    "    tool_use_name = tool_use_block['name']\n",
    "            \n",
    "    print(f\"Using tool {tool_use_name}\")\n",
    "    \n",
    "    # Note: We're deliberately excluding tangent so something magical can happen\n",
    "    if tool_use_name == 'cosine':\n",
    "        return math.cos(tool_use_block['input']['x'])\n",
    "    elif tool_use_name == 'sine':\n",
    "        return math.sin(tool_use_block['input']['x'])\n",
    "    elif tool_use_name == 'divide_numbers':\n",
    "        return tool_use_block['input']['x'] / tool_use_block['input']['y'] \n",
    "    else:\n",
    "        raise ToolError(f\"Invalid function name: {tool_use_name}\")\n"
   ]
  },
  {
   "cell_type": "code",
   "execution_count": 88,
   "id": "5369d2ca-d411-40e8-8e30-5c7b8b2228d7",
   "metadata": {},
   "outputs": [],
   "source": [
    "def handle_response(response_message):\n",
    "    \n",
    "    response_content_blocks = response_message['content']\n",
    "    \n",
    "    follow_up_content_blocks = []\n",
    "    \n",
    "    for content_block in response_content_blocks:\n",
    "        if 'toolUse' in content_block:\n",
    "            tool_use_block = content_block['toolUse']\n",
    "            \n",
    "            try:\n",
    "                tool_result_value = get_tool_result(tool_use_block)\n",
    "                \n",
    "                if tool_result_value is not None:\n",
    "                    follow_up_content_blocks.append({\n",
    "                        \"toolResult\": {\n",
    "                            \"toolUseId\": tool_use_block['toolUseId'],\n",
    "                            \"content\": [\n",
    "                                { \"json\": { \"result\": tool_result_value } }\n",
    "                            ]\n",
    "                        }\n",
    "                    })\n",
    "                \n",
    "            except ToolError as e:\n",
    "                follow_up_content_blocks.append({ \n",
    "                    \"toolResult\": {\n",
    "                        \"toolUseId\": tool_use_block['toolUseId'],\n",
    "                        \"content\": [  { \"text\": repr(e) } ],\n",
    "                        \"status\": \"error\"\n",
    "                    }\n",
    "                })\n",
    "        \n",
    "    \n",
    "    if len(follow_up_content_blocks) > 0:\n",
    "        \n",
    "        follow_up_message = {\n",
    "            \"role\": \"user\",\n",
    "            \"content\": follow_up_content_blocks,\n",
    "        }\n",
    "        \n",
    "        return follow_up_message\n",
    "    else:\n",
    "        return None\n"
   ]
  },
  {
   "cell_type": "code",
   "execution_count": 89,
   "id": "d7339dcb-9658-4c9d-a28e-7e2d83d41353",
   "metadata": {},
   "outputs": [],
   "source": [
    "def run_loop(prompt, tool_list):\n",
    "    MAX_LOOPS = 6\n",
    "    loop_count = 0\n",
    "    continue_loop = True\n",
    "    \n",
    "    message_list = [\n",
    "        {\n",
    "            \"role\": \"user\",\n",
    "            \"content\": [ { \"text\": prompt } ]\n",
    "        }\n",
    "    ]\n",
    "    \n",
    "    while continue_loop:\n",
    "        response = call_bedrock(message_list, tool_list)\n",
    "        \n",
    "        response_message = response['output']['message']\n",
    "        message_list.append(response_message)\n",
    "        \n",
    "        loop_count = loop_count + 1\n",
    "        \n",
    "        if loop_count >= MAX_LOOPS:\n",
    "            print(f\"Hit loop limit: {loop_count}\")\n",
    "            break\n",
    "        \n",
    "        follow_up_message = handle_response(response_message)\n",
    "        \n",
    "        if follow_up_message is None:\n",
    "            # No remaining work to do, return final response to user\n",
    "            continue_loop = False \n",
    "        else:\n",
    "            message_list.append(follow_up_message)\n",
    "            \n",
    "    return message_list\n"
   ]
  },
  {
   "cell_type": "code",
   "execution_count": 6,
   "id": "865b9784-0df8-49e7-bc15-d54381d9c028",
   "metadata": {},
   "outputs": [],
   "source": [
    "tools = [\n",
    "    {\n",
    "        \"toolSpec\": {\n",
    "            \"name\": \"cosine\",\n",
    "            \"description\": \"Calculate the cosine of x.\",\n",
    "            \"inputSchema\": {\n",
    "                \"json\": {\n",
    "                    \"type\": \"object\",\n",
    "                    \"properties\": {\n",
    "                        \"x\": {\n",
    "                            \"type\": \"number\",\n",
    "                            \"description\": \"The number to pass to the function.\"\n",
    "                        }\n",
    "                    },\n",
    "                    \"required\": [\"x\"]\n",
    "                }\n",
    "            }\n",
    "        }\n",
    "    },\n",
    "    {\n",
    "        \"toolSpec\": {\n",
    "            \"name\": \"sine\",\n",
    "            \"description\": \"Calculate the sine of x.\",\n",
    "            \"inputSchema\": {\n",
    "                \"json\": {\n",
    "                    \"type\": \"object\",\n",
    "                    \"properties\": {\n",
    "                        \"x\": {\n",
    "                            \"type\": \"number\",\n",
    "                            \"description\": \"The number to pass to the function.\"\n",
    "                        }\n",
    "                    },\n",
    "                    \"required\": [\"x\"]\n",
    "                }\n",
    "            }\n",
    "        }\n",
    "    },\n",
    "    {\n",
    "        \"toolSpec\": {\n",
    "            \"name\": \"tangent\",\n",
    "            \"description\": \"Calculate the tangent of x.\",\n",
    "            \"inputSchema\": {\n",
    "                \"json\": {\n",
    "                    \"type\": \"object\",\n",
    "                    \"properties\": {\n",
    "                        \"x\": {\n",
    "                            \"type\": \"number\",\n",
    "                            \"description\": \"The number to pass to the function.\"\n",
    "                        }\n",
    "                    },\n",
    "                    \"required\": [\"x\"]\n",
    "                }\n",
    "            }\n",
    "        }\n",
    "    },\n",
    "    {\n",
    "        \"toolSpec\": {\n",
    "            \"name\": \"divide_numbers\",\n",
    "            \"description\": \"Divide x by y.\",\n",
    "            \"inputSchema\": {\n",
    "                \"json\": {\n",
    "                    \"type\": \"object\",\n",
    "                    \"properties\": {\n",
    "                        \"x\": {\n",
    "                            \"type\": \"number\",\n",
    "                            \"description\": \"The numerator.\"\n",
    "                        },\n",
    "                        \"y\": {\n",
    "                            \"type\": \"number\",\n",
    "                            \"description\": \"The denominator.\"\n",
    "                        }\n",
    "                    },\n",
    "                    \"required\": [\"x\", \"y\"]\n",
    "                }\n",
    "            }\n",
    "        }\n",
    "    }\n",
    "]\n"
   ]
  },
  {
   "cell_type": "code",
   "execution_count": 7,
   "id": "ba29555e-cbf1-4035-9692-841f77c695b7",
   "metadata": {},
   "outputs": [
    {
     "name": "stdout",
     "output_type": "stream",
     "text": [
      "Using tool tangent\n",
      "\n",
      "MESSAGES:\n",
      "\n",
      "[\n",
      "    {\n",
      "        \"role\": \"user\",\n",
      "        \"content\": [\n",
      "            {\n",
      "                \"text\": \"What is the tangent of 7?\"\n",
      "            }\n",
      "        ]\n",
      "    },\n",
      "    {\n",
      "        \"role\": \"assistant\",\n",
      "        \"content\": [\n",
      "            {\n",
      "                \"text\": \"<thinking> To find the tangent of 7, I need to use the tangent tool with the argument 7. </thinking>\\n\"\n",
      "            },\n",
      "            {\n",
      "                \"toolUse\": {\n",
      "                    \"toolUseId\": \"tooluse_P8-yrLWaQO2YtudCmeV9oQ\",\n",
      "                    \"name\": \"tangent\",\n",
      "                    \"input\": {\n",
      "                        \"x\": 7\n",
      "                    }\n",
      "                }\n",
      "            }\n",
      "        ]\n",
      "    },\n",
      "    {\n",
      "        \"role\": \"user\",\n",
      "        \"content\": [\n",
      "            {\n",
      "                \"toolResult\": {\n",
      "                    \"toolUseId\": \"tooluse_P8-yrLWaQO2YtudCmeV9oQ\",\n",
      "                    \"content\": [\n",
      "                        {\n",
      "                            \"text\": \"ToolError('Invalid function name: tangent')\"\n",
      "                        }\n",
      "                    ],\n",
      "                    \"status\": \"error\"\n",
      "                }\n",
      "            }\n",
      "        ]\n",
      "    },\n",
      "    {\n",
      "        \"role\": \"assistant\",\n",
      "        \"content\": [\n",
      "            {\n",
      "                \"text\": \"<thinking> It appears there was an error using the tangent tool. I should inform the user that I cannot calculate the tangent of 7 due to this error. </thinking>\\n\\nI'm sorry, but I can't calculate the tangent of 7 due to an error with the tool. Please try again later.\"\n",
      "            }\n",
      "        ]\n",
      "    }\n",
      "]\n"
     ]
    }
   ],
   "source": [
    "messages = run_loop(\"What is the tangent of 7?\", tools)\n",
    "\n",
    "print(\"\\nMESSAGES:\\n\")\n",
    "print(json.dumps(messages, indent=4))\n"
   ]
  },
  {
   "cell_type": "code",
   "execution_count": 36,
   "id": "6209472c-3d9d-4dd7-b84f-5c529b9c4727",
   "metadata": {},
   "outputs": [],
   "source": [
    "\n",
    "tool_list =[\n",
    "    {\n",
    "        \"toolSpec\": {\n",
    "            \"name\": \"identify_complaints_filters\",\n",
    "            \"description\": \"\"\"Your job is to first look at the query's query and determine if it requires filtering the complaints first based off the following columns \n",
    "            client_name - name of the company making the complaint, you will need to use the like filter since users might not type if the exact name\n",
    "            client_region - possible values ['MC','LC','ICB'] where MC= mid-corporate, LC = Large corporate, ICB = International corprorate\n",
    "            complaint_date - date of the complaint\n",
    "\n",
    "            Note: if you're not sure then don't output anything. This is used for metadata filter for the vectorstore. You will need to use the following\n",
    "            $eq (equals)\n",
    "            $neq (not equals)\n",
    "            $gt (greater than)\n",
    "            $lt (less than)\n",
    "            $gte (greater than or equal)\n",
    "            $lte (less than or equal)\n",
    "            $in (membership in list)\n",
    "            $nin (not in list)\n",
    "            $and (all conditions must match)\n",
    "            $or (any condition must match)\n",
    "            $not (negation of condition)\n",
    "\n",
    "            Example1: user_query: Show me all complaints in region MC\n",
    "            output: = {\"client_region\": {\"$eq\": \"MC\"}}\n",
    "\n",
    "            Example2: user_query: Show me all complaints in region LC and after 15th June 2024\n",
    "            output: = {\"client_region\": {\"$eq\": \"MC\"},\"client_region\": {\"$gt\": \"2024-06-15\"}}\n",
    "\n",
    "            \n",
    "            \"\"\",\n",
    "            \"inputSchema\": {\n",
    "                \"json\": {\n",
    "                    \"type\": \"object\",\n",
    "                    \"properties\": {\n",
    "                        \"x\": {\n",
    "                            \"type\": \"array\",\n",
    "                            \"description\": \"output filter as a dict\"\n",
    "                        }\n",
    "                    },\n",
    "                    \"required\": [\"x\"]\n",
    "                }\n",
    "            }\n",
    "        }}\n"
   ]
  },
  {
   "cell_type": "code",
   "execution_count": 54,
   "id": "42817e85-9cdf-4786-a8ca-e4590a67ee2d",
   "metadata": {},
   "outputs": [],
   "source": [
    "query_example = \"is there any complaints relating to MC\"\n",
    "message_list = [\n",
    "        {\n",
    "            \"role\": \"user\",\n",
    "            \"content\": [ { \"text\": query_example } ]\n",
    "        }\n",
    "    ]"
   ]
  },
  {
   "cell_type": "code",
   "execution_count": 55,
   "id": "55356a98-6bef-4728-a0e4-3c80a37dce93",
   "metadata": {},
   "outputs": [],
   "source": [
    "import boto3\n",
    "session = boto3.Session()\n",
    "\n",
    "bedrock = session.client(service_name='bedrock-runtime')\n",
    "\n",
    "response = bedrock.converse(\n",
    "    modelId=\"amazon.nova-pro-v1:0\",\n",
    "    messages=message_list,\n",
    "    inferenceConfig={\n",
    "        \"maxTokens\": 2000,\n",
    "        \"temperature\": 0.2\n",
    "    },\n",
    "    toolConfig={ \"tools\": tool_list }\n",
    ")"
   ]
  },
  {
   "cell_type": "code",
   "execution_count": 56,
   "id": "33528770-0e15-4032-92c7-dc95196d6d40",
   "metadata": {},
   "outputs": [
    {
     "data": {
      "text/plain": [
       "{'ResponseMetadata': {'RequestId': 'be67d74e-b33a-4353-b426-09a8aec91b3e',\n",
       "  'HTTPStatusCode': 200,\n",
       "  'HTTPHeaders': {'date': 'Sat, 18 Jan 2025 14:51:32 GMT',\n",
       "   'content-type': 'application/json',\n",
       "   'content-length': '504',\n",
       "   'connection': 'keep-alive',\n",
       "   'x-amzn-requestid': 'be67d74e-b33a-4353-b426-09a8aec91b3e'},\n",
       "  'RetryAttempts': 0},\n",
       " 'output': {'message': {'role': 'assistant',\n",
       "   'content': [{'text': \"<thinking> The user is asking about complaints relating to 'MC', which likely refers to the 'client_region'. I need to filter the complaints based on this region. </thinking>\\n\"},\n",
       "    {'toolUse': {'toolUseId': 'tooluse_RZ8-NBvLTVqT_ZuLX7B_Mg',\n",
       "      'name': 'identify_complaints_filters',\n",
       "      'input': {'x': [{'client_region': {'$eq': 'MC'}}]}}}]}},\n",
       " 'stopReason': 'tool_use',\n",
       " 'usage': {'inputTokens': 849, 'outputTokens': 133, 'totalTokens': 982},\n",
       " 'metrics': {'latencyMs': 1105}}"
      ]
     },
     "execution_count": 56,
     "metadata": {},
     "output_type": "execute_result"
    }
   ],
   "source": []
  },
  {
   "cell_type": "code",
   "execution_count": 81,
   "id": "f3bd0f81-9625-4496-9911-9ec498c453b1",
   "metadata": {},
   "outputs": [
    {
     "data": {
      "text/plain": [
       "{'toolUse': {'toolUseId': 'tooluse_RZ8-NBvLTVqT_ZuLX7B_Mg',\n",
       "  'name': 'identify_complaints_filters',\n",
       "  'input': {'x': [{'client_region': {'$eq': 'MC'}}]}}}"
      ]
     },
     "execution_count": 81,
     "metadata": {},
     "output_type": "execute_result"
    }
   ],
   "source": [
    "response['output']['message']['content'][1]"
   ]
  },
  {
   "cell_type": "code",
   "execution_count": 90,
   "id": "e9769f79-8b55-4814-a0e9-bc795cecac0e",
   "metadata": {},
   "outputs": [
    {
     "name": "stdout",
     "output_type": "stream",
     "text": [
      "Using tool identify_complaints_filters\n"
     ]
    },
    {
     "data": {
      "text/plain": [
       "{'role': 'user',\n",
       " 'content': [{'toolResult': {'toolUseId': 'tooluse_RZ8-NBvLTVqT_ZuLX7B_Mg',\n",
       "    'content': [{'text': \"ToolError('Invalid function name: identify_complaints_filters')\"}],\n",
       "    'status': 'error'}}]}"
      ]
     },
     "execution_count": 90,
     "metadata": {},
     "output_type": "execute_result"
    }
   ],
   "source": [
    "handle_response(response['output']['message'])"
   ]
  },
  {
   "cell_type": "code",
   "execution_count": 57,
   "id": "ae3dab2f-0f4a-4061-b751-13c483cbbfc2",
   "metadata": {},
   "outputs": [],
   "source": [
    "import faiss\n",
    "from langchain_community.docstore.in_memory import InMemoryDocstore\n",
    "from langchain_community.vectorstores import FAISS"
   ]
  },
  {
   "cell_type": "code",
   "execution_count": 58,
   "id": "c4919c8d-54b1-4a40-8da1-c7e5aa879965",
   "metadata": {},
   "outputs": [],
   "source": [
    "from langchain.embeddings import BedrockEmbeddings\n",
    "import boto3\n",
    "bedrock_client = boto3.client(\n",
    "    service_name=\"bedrock-runtime\",\n",
    "    region_name='us-east-1',\n",
    ")\n",
    "embeddings = BedrockEmbeddings(\n",
    "            client=bedrock_client, \n",
    "            model_id=\"amazon.titan-embed-text-v2:0\"\n",
    "        )\n"
   ]
  },
  {
   "cell_type": "code",
   "execution_count": 59,
   "id": "f732e559-138a-425d-939b-556fd63d0136",
   "metadata": {},
   "outputs": [],
   "source": [
    "vector_store = FAISS.load_local('complaints.vs',embeddings,allow_dangerous_deserialization=True)"
   ]
  },
  {
   "cell_type": "code",
   "execution_count": 60,
   "id": "944522ea-af05-43a5-a533-e88ece1599ba",
   "metadata": {},
   "outputs": [],
   "source": [
    "retriever = vector_store.as_retriever(search_kwargs={'filter':{'client_name': {'$like': 'Iportal'}}} )"
   ]
  },
  {
   "cell_type": "code",
   "execution_count": 61,
   "id": "e6aca957-c3c7-4094-812b-8ad69535aa9e",
   "metadata": {},
   "outputs": [],
   "source": [
    "docs = retriever.invoke('bring me back all the iportal complaints')"
   ]
  },
  {
   "cell_type": "code",
   "execution_count": 62,
   "id": "6efb04b0-9277-4014-be6b-86446911f598",
   "metadata": {},
   "outputs": [
    {
     "data": {
      "text/plain": [
       "[]"
      ]
     },
     "execution_count": 62,
     "metadata": {},
     "output_type": "execute_result"
    }
   ],
   "source": [
    "docs"
   ]
  },
  {
   "cell_type": "code",
   "execution_count": null,
   "id": "a1418119-a261-4fdb-b432-9dc3672e66a5",
   "metadata": {},
   "outputs": [],
   "source": []
  },
  {
   "cell_type": "code",
   "execution_count": null,
   "id": "9f0e4eb0-ce46-4e38-84c3-9c580a197d1b",
   "metadata": {},
   "outputs": [],
   "source": []
  }
 ],
 "metadata": {
  "kernelspec": {
   "display_name": "Python 3 (ipykernel)",
   "language": "python",
   "name": "python3"
  },
  "language_info": {
   "codemirror_mode": {
    "name": "ipython",
    "version": 3
   },
   "file_extension": ".py",
   "mimetype": "text/x-python",
   "name": "python",
   "nbconvert_exporter": "python",
   "pygments_lexer": "ipython3",
   "version": "3.11.11"
  }
 },
 "nbformat": 4,
 "nbformat_minor": 5
}
